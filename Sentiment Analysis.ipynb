{
 "cells": [
  {
   "cell_type": "markdown",
   "metadata": {},
   "source": [
    "# Sentiment Analysis on Movie Polarity Dataset"
   ]
  },
  {
   "cell_type": "code",
   "execution_count": 139,
   "metadata": {
    "collapsed": true,
    "scrolled": true
   },
   "outputs": [],
   "source": [
    "from sklearn.datasets import load_files\n",
    "from sklearn.feature_extraction.text import TfidfVectorizer\n",
    "from sklearn.grid_search import GridSearchCV\n",
    "from sklearn.pipeline import Pipeline\n",
    "from sklearn.svm import LinearSVC"
   ]
  },
  {
   "cell_type": "code",
   "execution_count": 140,
   "metadata": {
    "collapsed": true,
    "scrolled": true
   },
   "outputs": [],
   "source": [
    "data = load_files('/almacen/Media/Meta/ml/sentiment/txt_sentoken', shuffle=True )"
   ]
  },
  {
   "cell_type": "code",
   "execution_count": 142,
   "metadata": {
    "collapsed": false,
    "scrolled": true
   },
   "outputs": [
    {
     "name": "stdout",
     "output_type": "stream",
     "text": [
      "Value = 1 \n",
      "-------\n",
      "quaid stars as a man who has taken up the proffesion of dragonslayer after he feels he is betrayed by a dragon early in the movie . \n",
      "he runs into the last dragon in existence , and there is a genuinely amusing battle between the two which results in a standoff where quaid is in the dragons mouth , but has his sword pointed at the dragons brain . \n",
      "eventually , they decide to call a truce , and they work out a deal . \n",
      "since he is the last dragon , he will pretend to die and quaid will be able to get paid for it . \n",
      "their scam works at first , until they come to a town without any money . \n",
      "instead the town sacrifices a girl to the dragon , but of course , draco is a nice droagon , so he won't eat her . there is however a very amusing scene where draco is hitting on the young girl . \n",
      "of course , as you can probably tell by the plot , this is a silly movie , but it does know when to take itself seriously at the right times , unlike eddie , which was serious all the time . \n",
      "you could probably call this a medieval comedy , because there are more laughs here than in eddie and spy hard combined . \n",
      "dennis quaid makes a fine hero . \n",
      "pete posthlewaite provides some ghreat comedy as a monk who journeys with them . \n",
      "dina meyer is appealing as the sacrificed girl . \n",
      "but lets face it , the movie is really about the dragon , and what an amazing creation he is . \n",
      "connery's voice and ilm team up to provide us with a truly magnificent dragon . \n",
      "so , if you are going to see this movie for a strong hard core medieval epic , you are going to the wrong movie . \n",
      "if you are going because of the dragon , you will not be dissapointed , and you will be provided with plenty of laughs that smooth out the boring parts in the script . \n",
      "\n"
     ]
    }
   ],
   "source": [
    "idx = 2\n",
    "print \"Value =\", data.target[idx], \"\\n-------\\n\", data.data[idx]"
   ]
  },
  {
   "cell_type": "code",
   "execution_count": 143,
   "metadata": {
    "collapsed": true,
    "scrolled": true
   },
   "outputs": [],
   "source": [
    "vect = TfidfVectorizer( min_df=5, max_df=0.8, sublinear_tf=True, use_idf=True )\n",
    "X = vect.fit_transform(data.data)"
   ]
  },
  {
   "cell_type": "code",
   "execution_count": 144,
   "metadata": {
    "collapsed": false,
    "scrolled": true
   },
   "outputs": [
    {
     "data": {
      "text/plain": [
       "(2000, 13290)"
      ]
     },
     "execution_count": 144,
     "metadata": {},
     "output_type": "execute_result"
    }
   ],
   "source": [
    "X.shape"
   ]
  },
  {
   "cell_type": "code",
   "execution_count": 145,
   "metadata": {
    "collapsed": false,
    "scrolled": true
   },
   "outputs": [
    {
     "name": "stdout",
     "output_type": "stream",
     "text": [
      "movie      1.25217150997\n",
      "out        1.26186463918\n",
      "like       1.28951617051\n",
      "was        1.29018395016\n",
      "they       1.29085217605\n",
      "there      1.29085217605\n",
      "so         1.29823228335\n",
      "you        1.30566726183\n"
     ]
    }
   ],
   "source": [
    "# See some of the very frequent words\n",
    "reversed_dict = { v:k for k,v in vect.vocabulary_.iteritems() }\n",
    "lowest = np.argpartition(vect.idf_,8)[:8]\n",
    "key = lambda x : vect.idf_[x]\n",
    "for idf in sorted( lowest, key=key ):\n",
    "    print \"{:10} {}\".format( reversed_dict[idf], vect.idf_[idf] )"
   ]
  },
  {
   "cell_type": "code",
   "execution_count": 146,
   "metadata": {
    "collapsed": false,
    "scrolled": true
   },
   "outputs": [
    {
     "name": "stdout",
     "output_type": "stream",
     "text": [
      "squadron   6.80964286536\n",
      "priced     6.80964286536\n",
      "flounder   6.80964286536\n",
      "stack      6.80964286536\n",
      "stacked    6.80964286536\n",
      "focal      6.80964286536\n",
      "flustered  6.80964286536\n",
      "flown      6.80964286536\n"
     ]
    }
   ],
   "source": [
    "# See some of the least frequent words\n",
    "for i in np.argpartition(vect.idf_,-8)[-8:]:\n",
    "    print \"{:10} {}\".format( reversed_dict[i], vect.idf_[i] )"
   ]
  },
  {
   "cell_type": "code",
   "execution_count": 147,
   "metadata": {
    "collapsed": false,
    "scrolled": true
   },
   "outputs": [
    {
     "data": {
      "text/plain": [
       "True"
      ]
     },
     "execution_count": 147,
     "metadata": {},
     "output_type": "execute_result"
    }
   ],
   "source": [
    "# do we have sparse data?\n",
    "import scipy.sparse as sp\n",
    "sp.issparse(X)"
   ]
  },
  {
   "cell_type": "code",
   "execution_count": 148,
   "metadata": {
    "collapsed": false,
    "scrolled": true
   },
   "outputs": [],
   "source": [
    "# The usual train/test split\n",
    "from sklearn.cross_validation import train_test_split\n",
    "from sklearn.utils import check_random_state\n",
    "\n",
    "rs = check_random_state( 1352 )\n",
    "Xr, Xt, yr, yt = train_test_split( X, data.target, test_size=0.30, random_state=rs )"
   ]
  },
  {
   "cell_type": "code",
   "execution_count": 149,
   "metadata": {
    "collapsed": false,
    "scrolled": true
   },
   "outputs": [],
   "source": [
    "# Let's try a random forest\n",
    "from sklearn.ensemble import RandomForestClassifier\n",
    "\n",
    "clf = RandomForestClassifier(n_estimators=50).fit( Xr, yr )\n",
    "yp = clf.predict( Xt )"
   ]
  },
  {
   "cell_type": "code",
   "execution_count": 151,
   "metadata": {
    "collapsed": false,
    "scrolled": true
   },
   "outputs": [
    {
     "name": "stdout",
     "output_type": "stream",
     "text": [
      "Accuracy = 0.766666666667\n"
     ]
    }
   ],
   "source": [
    "# How good did we get\n",
    "from sklearn.metrics import accuracy_score, confusion_matrix\n",
    "\n",
    "print \"Accuracy =\", accuracy_score( yt, yp )\n"
   ]
  },
  {
   "cell_type": "code",
   "execution_count": 152,
   "metadata": {
    "collapsed": false,
    "scrolled": true
   },
   "outputs": [
    {
     "name": "stdout",
     "output_type": "stream",
     "text": [
      "[[241  52]\n",
      " [ 88 219]]\n"
     ]
    }
   ],
   "source": [
    "print confusion_matrix( yt, yp )"
   ]
  },
  {
   "cell_type": "code",
   "execution_count": 156,
   "metadata": {
    "collapsed": false
   },
   "outputs": [
    {
     "data": {
      "text/plain": [
       "GridSearchCV(cv=5, error_score='raise',\n",
       "       estimator=RandomForestClassifier(bootstrap=True, class_weight=None, criterion='gini',\n",
       "            max_depth=None, max_features='auto', max_leaf_nodes=None,\n",
       "            min_samples_leaf=1, min_samples_split=2,\n",
       "            min_weight_fraction_leaf=0.0, n_estimators=10, n_jobs=1,\n",
       "            oob_score=False, random_state=None, verbose=0,\n",
       "            warm_start=False),\n",
       "       fit_params={}, iid=True, loss_func=None, n_jobs=1,\n",
       "       param_grid=[{'n_estimators': [6, 10, 14, 18, 22, 26, 30, 34, 38, 42, 46, 50, 54, 58, 62, 66, 70, 74, 78, 82, 86, 90, 94, 98]}],\n",
       "       pre_dispatch='2*n_jobs', refit=True, score_func=None, scoring=None,\n",
       "       verbose=0)"
      ]
     },
     "execution_count": 156,
     "metadata": {},
     "output_type": "execute_result"
    }
   ],
   "source": [
    "# Do a grid search over the parameter space. Will take a while\n",
    "\n",
    "from sklearn.grid_search import GridSearchCV\n",
    "\n",
    "param_grid = [\n",
    "  {'n_estimators': range(6,100,4) },\n",
    " ]\n",
    "\n",
    "clf = GridSearchCV( RandomForestClassifier(), param_grid, cv=5 )\n",
    "#                    scoring='%s_weighted' % score)\n",
    "\n",
    "clf.fit(Xr, yr)"
   ]
  },
  {
   "cell_type": "code",
   "execution_count": 157,
   "metadata": {
    "collapsed": false
   },
   "outputs": [
    {
     "name": "stdout",
     "output_type": "stream",
     "text": [
      "Best parameters set found on development set:\n",
      "()\n",
      "{'n_estimators': 98}\n",
      "()\n",
      "Grid scores on development set:\n",
      "()\n",
      "0.627 (+/-0.022) for {'n_estimators': 6}\n",
      "0.656 (+/-0.048) for {'n_estimators': 10}\n",
      "0.690 (+/-0.049) for {'n_estimators': 14}\n",
      "0.709 (+/-0.029) for {'n_estimators': 18}\n",
      "0.699 (+/-0.025) for {'n_estimators': 22}\n",
      "0.709 (+/-0.032) for {'n_estimators': 26}\n",
      "0.739 (+/-0.061) for {'n_estimators': 30}\n",
      "0.735 (+/-0.035) for {'n_estimators': 34}\n",
      "0.755 (+/-0.020) for {'n_estimators': 38}\n",
      "0.750 (+/-0.037) for {'n_estimators': 42}\n",
      "0.731 (+/-0.033) for {'n_estimators': 46}\n",
      "0.759 (+/-0.019) for {'n_estimators': 50}\n",
      "0.761 (+/-0.042) for {'n_estimators': 54}\n",
      "0.747 (+/-0.045) for {'n_estimators': 58}\n",
      "0.756 (+/-0.031) for {'n_estimators': 62}\n",
      "0.751 (+/-0.038) for {'n_estimators': 66}\n",
      "0.775 (+/-0.017) for {'n_estimators': 70}\n",
      "0.770 (+/-0.034) for {'n_estimators': 74}\n",
      "0.774 (+/-0.038) for {'n_estimators': 78}\n",
      "0.789 (+/-0.044) for {'n_estimators': 82}\n",
      "0.772 (+/-0.035) for {'n_estimators': 86}\n",
      "0.773 (+/-0.048) for {'n_estimators': 90}\n",
      "0.781 (+/-0.020) for {'n_estimators': 94}\n",
      "0.791 (+/-0.014) for {'n_estimators': 98}\n"
     ]
    }
   ],
   "source": [
    "    print(\"Best parameters set found on development set:\")\n",
    "    print()\n",
    "    print(clf.best_params_)\n",
    "    print()\n",
    "    print(\"Grid scores on development set:\")\n",
    "    print()\n",
    "    for params, mean_score, scores in clf.grid_scores_:\n",
    "        print(\"%0.3f (+/-%0.03f) for %r\"\n",
    "              % (mean_score, scores.std() * 2, params))"
   ]
  },
  {
   "cell_type": "code",
   "execution_count": null,
   "metadata": {
    "collapsed": true
   },
   "outputs": [],
   "source": []
  }
 ],
 "metadata": {
  "kernelspec": {
   "display_name": "Python 2",
   "language": "python",
   "name": "python2"
  },
  "language_info": {
   "codemirror_mode": {
    "name": "ipython",
    "version": 2
   },
   "file_extension": ".py",
   "mimetype": "text/x-python",
   "name": "python",
   "nbconvert_exporter": "python",
   "pygments_lexer": "ipython2",
   "version": "2.7.6"
  }
 },
 "nbformat": 4,
 "nbformat_minor": 0
}
