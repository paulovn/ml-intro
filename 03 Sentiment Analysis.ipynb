{
 "cells": [
  {
   "cell_type": "markdown",
   "metadata": {},
   "source": [
    "# 3. Sentiment Analysis on Movie Polarity Dataset<br/><sub>or _feature extraction & hyper-parameter optimization_</sub>\n",
    "<br/>\n",
    "In this example we will try to classify movie reviews into being overall positive or negative.\n",
    "\n",
    "The dataset we'll use is the [Sentiment Polarity Dataset](http://www.cs.cornell.edu/people/pabo/movie-review-data/) v. 2.0:\n",
    "* It contains 2000 textual reviews of movies from the [Rotten Tomatoes](http://www.rottentomatoes.com/) website\n",
    "* We use the _text review_ as the dataset, and the _movie rating_ (extracte from the RT page) as the truth value (review positive/negative). See the [README](http://www.cs.cornell.edu/people/pabo/movie-review-data/poldata.README.2.0.txt)\n",
    "* The dataset contains 1000 positive and 1000 negative review"
   ]
  },
  {
   "cell_type": "markdown",
   "metadata": {},
   "source": [
    "## Loading the data\n",
    "\n",
    "The dataset is available as http://www.cs.cornell.edu/people/pabo/movie-review-data/review_polarity.tar.gz\n",
    "\n",
    "It uncompresses into a folder structure that can be readily loaded by the sklearn [load_files](http://scikit-learn.org/stable/modules/generated/sklearn.datasets.load_files.html) function."
   ]
  },
  {
   "cell_type": "code",
   "execution_count": 14,
   "metadata": {
    "collapsed": true
   },
   "outputs": [],
   "source": [
    "# Set the directory where the sentiment data will be deployed. Use a place local to your computer.\n",
    "datadir = '/almacen/Media/Meta/ml/sentiment/'\n",
    "\n",
    "import os.path\n",
    "sentiment_dir = os.path.join(datadir,'txt_sentoken')"
   ]
  },
  {
   "cell_type": "markdown",
   "metadata": {},
   "source": [
    "We check if the sentiment data is already there. If not, we download it and extract all the files in the designated dir"
   ]
  },
  {
   "cell_type": "code",
   "execution_count": 13,
   "metadata": {
    "collapsed": false
   },
   "outputs": [],
   "source": [
    "if not os.path.isdir(sentiment_dir):\n",
    "    import urllib2\n",
    "    import tarfile\n",
    "    src = urllib2.urlopen( 'http://www.cs.cornell.edu/people/pabo/movie-review-data/review_polarity.tar.gz' )\n",
    "    with tarfile.open( fileobj=src, mode='r|gz' ) as sdata:\n",
    "        sdata.extractall( path=datadir )\n",
    "    src.close"
   ]
  },
  {
   "cell_type": "markdown",
   "metadata": {},
   "source": [
    "Ok, now we _do_ have the sentiment datafiles. Let's load them into a structure ready for use with sklearn"
   ]
  },
  {
   "cell_type": "code",
   "execution_count": 15,
   "metadata": {
    "collapsed": false
   },
   "outputs": [],
   "source": [
    "from sklearn.datasets import load_files\n",
    "data = load_files( sentiment_dir, shuffle=True )"
   ]
  },
  {
   "cell_type": "markdown",
   "metadata": {},
   "source": [
    "Let's take a look at what the entries in the dataset look like:\n",
    "* target variable is 0 (negative review) or 1 (positive review)\n",
    "* datapoint is a list of text lines, containing the sentences in the review of the movie"
   ]
  },
  {
   "cell_type": "code",
   "execution_count": 17,
   "metadata": {
    "collapsed": false,
    "scrolled": true
   },
   "outputs": [
    {
     "name": "stdout",
     "output_type": "stream",
     "text": [
      "Value = 1 \n",
      "-------\n",
      "quaid stars as a man who has taken up the proffesion of dragonslayer after he feels he is betrayed by a dragon early in the movie . \n",
      "he runs into the last dragon in existence , and there is a genuinely amusing battle between the two which results in a standoff where quaid is in the dragons mouth , but has his sword pointed at the dragons brain . \n",
      "eventually , they decide to call a truce , and they work out a deal . \n",
      "since he is the last dragon , he will pretend to die and quaid will be able to get paid for it . \n",
      "their scam works at first , until they come to a town without any money . \n",
      "instead the town sacrifices a girl to the dragon , but of course , draco is a nice droagon , so he won't eat her . there is however a very amusing scene where draco is hitting on the young girl . \n",
      "of course , as you can probably tell by the plot , this is a silly movie , but it does know when to take itself seriously at the right times , unlike eddie , which was serious all the time . \n",
      "you could probably call this a medieval comedy , because there are more laughs here than in eddie and spy hard combined . \n",
      "dennis quaid makes a fine hero . \n",
      "pete posthlewaite provides some ghreat comedy as a monk who journeys with them . \n",
      "dina meyer is appealing as the sacrificed girl . \n",
      "but lets face it , the movie is really about the dragon , and what an amazing creation he is . \n",
      "connery's voice and ilm team up to provide us with a truly magnificent dragon . \n",
      "so , if you are going to see this movie for a strong hard core medieval epic , you are going to the wrong movie . \n",
      "if you are going because of the dragon , you will not be dissapointed , and you will be provided with plenty of laughs that smooth out the boring parts in the script . \n",
      "\n"
     ]
    }
   ],
   "source": [
    "idx = 2\n",
    "print \"Value =\", data.target[idx], \"\\n-------\\n\", data.data[idx]"
   ]
  },
  {
   "cell_type": "markdown",
   "metadata": {},
   "source": [
    "## Extracting text features\n",
    "\n",
    "We now use [TF/IDF](http://en.wikipedia.org/wiki/Tf%E2%80%93idf) indexing to generate the vectors for the text data, by using the sklearn [TfIdfVectorizer](http://scikit-learn.org/stable/modules/generated/sklearn.feature_extraction.text.TfidfVectorizer.html) module.\n",
    "\n",
    "With these options (intended to improve performance):\n",
    "* We request a minimum document frequency of 5. This is to suppress very infrequent words, which might be good for IR (e.g. for a text search) but probably not very relevant for sentiment classification (will not define polarity in a\n",
    "manner applicable across many reviews)\n",
    "* We also establish a máximum document frequency of 0.8, that is, we eliminate all words that appear in more than 80% of the documents. For the same reasons than before (will not be useful to discriminate polarity, if they appear across most reviews). It is roughly equivalent to setting a stopword list, but one defined from the documents themselves.\n",
    "* We activate _sublinear_tf_ normalization, that is, we replace $\\mathit{tf}$ with $1 + \\log(\\mathit{tf})$. This makes the value of TF decrease at a slower pace, effecively making the values of high TF words (very frequent words) somehow less salient."
   ]
  },
  {
   "cell_type": "code",
   "execution_count": 19,
   "metadata": {
    "collapsed": true,
    "scrolled": true
   },
   "outputs": [],
   "source": [
    "import numpy as np\n",
    "from sklearn.feature_extraction.text import TfidfVectorizer\n",
    "\n",
    "# Create the object\n",
    "vect = TfidfVectorizer( min_df=5, max_df=0.8, sublinear_tf=True, use_idf=True )\n",
    "\n",
    "# Do the indexing and obtain the term-document matrix\n",
    "X = vect.fit_transform(data.data)"
   ]
  },
  {
   "cell_type": "markdown",
   "metadata": {},
   "source": [
    "Let's look at the resulting data matrix:\n",
    "* 2000 lines (one per datapoint)\n",
    "* ~10K columns (one per distinct word coming up after the TF/IDF indexing)"
   ]
  },
  {
   "cell_type": "code",
   "execution_count": 20,
   "metadata": {
    "collapsed": false,
    "scrolled": true
   },
   "outputs": [
    {
     "data": {
      "text/plain": [
       "(2000, 13290)"
      ]
     },
     "execution_count": 20,
     "metadata": {},
     "output_type": "execute_result"
    }
   ],
   "source": [
    "X.shape"
   ]
  },
  {
   "cell_type": "markdown",
   "metadata": {},
   "source": [
    "Just out of curiosity, we inspect the result of the TF/IDF indexing by looking at both ends of the scale: the words  with the highest and lowest resulting score"
   ]
  },
  {
   "cell_type": "code",
   "execution_count": 9,
   "metadata": {
    "collapsed": false,
    "scrolled": true
   },
   "outputs": [
    {
     "name": "stdout",
     "output_type": "stream",
     "text": [
      "movie      1.25217150997\n",
      "out        1.26186463918\n",
      "like       1.28951617051\n",
      "was        1.29018395016\n",
      "they       1.29085217605\n",
      "there      1.29085217605\n",
      "so         1.29823228335\n",
      "you        1.30566726183\n"
     ]
    }
   ],
   "source": [
    "# See the 8 words with lowest IDF score\n",
    "reversed_dict = { v:k for k,v in vect.vocabulary_.iteritems() }\n",
    "lowest = np.argpartition(vect.idf_,8)[:8]\n",
    "key = lambda x : vect.idf_[x]\n",
    "for idf in sorted( lowest, key=key ):\n",
    "    print \"{:10} {}\".format( reversed_dict[idf], vect.idf_[idf] )"
   ]
  },
  {
   "cell_type": "code",
   "execution_count": 10,
   "metadata": {
    "collapsed": false,
    "scrolled": true
   },
   "outputs": [
    {
     "name": "stdout",
     "output_type": "stream",
     "text": [
      "squadron   6.80964286536\n",
      "priced     6.80964286536\n",
      "flounder   6.80964286536\n",
      "stack      6.80964286536\n",
      "stacked    6.80964286536\n",
      "focal      6.80964286536\n",
      "flustered  6.80964286536\n",
      "flown      6.80964286536\n"
     ]
    }
   ],
   "source": [
    "# See the 8 words with highest IDF score (the \"rare\" words)\n",
    "for i in np.argpartition(vect.idf_,-8)[-8:]:\n",
    "    print \"{:10} {}\".format( reversed_dict[i], vect.idf_[i] )"
   ]
  },
  {
   "cell_type": "code",
   "execution_count": 21,
   "metadata": {
    "collapsed": false
   },
   "outputs": [
    {
     "data": {
      "text/plain": [
       "26369"
      ]
     },
     "execution_count": 21,
     "metadata": {},
     "output_type": "execute_result"
    }
   ],
   "source": [
    "# How many terms were discarded in the indexing?\n",
    "len( vect.stop_words_)"
   ]
  },
  {
   "cell_type": "code",
   "execution_count": 22,
   "metadata": {
    "collapsed": false,
    "scrolled": true
   },
   "outputs": [
    {
     "data": {
      "text/plain": [
       "True"
      ]
     },
     "execution_count": 22,
     "metadata": {},
     "output_type": "execute_result"
    }
   ],
   "source": [
    "# do we have sparse data (as we should in a typical TF/IDF array)?\n",
    "import scipy.sparse as sp\n",
    "sp.issparse(X)"
   ]
  },
  {
   "cell_type": "markdown",
   "metadata": {},
   "source": [
    "## Training the classifier\n",
    "\n",
    "Ok, on to train the classifier. For this example we are going to use a Random Forest classifier"
   ]
  },
  {
   "cell_type": "code",
   "execution_count": 25,
   "metadata": {
    "collapsed": false,
    "scrolled": true
   },
   "outputs": [],
   "source": [
    "# The usual train/test split\n",
    "from sklearn.cross_validation import train_test_split\n",
    "from sklearn.utils import check_random_state\n",
    "\n",
    "rs = check_random_state( 1352 )\n",
    "Xr, Xt, yr, yt = train_test_split( X, data.target, test_size=0.30, random_state=rs )"
   ]
  },
  {
   "cell_type": "code",
   "execution_count": 72,
   "metadata": {
    "collapsed": false,
    "scrolled": true
   },
   "outputs": [],
   "source": [
    "# Let's try a random forest. We train with an ensemble of 30 trees\n",
    "from sklearn.ensemble import RandomForestClassifier\n",
    "\n",
    "clf = RandomForestClassifier(n_estimators=20).fit( Xr, yr )\n",
    "yp = clf.predict( Xt )"
   ]
  },
  {
   "cell_type": "code",
   "execution_count": 73,
   "metadata": {
    "collapsed": false,
    "scrolled": true
   },
   "outputs": [
    {
     "name": "stdout",
     "output_type": "stream",
     "text": [
      "Accuracy = 0.725\n"
     ]
    }
   ],
   "source": [
    "# How good did we get?\n",
    "from sklearn.metrics import accuracy_score, confusion_matrix\n",
    "\n",
    "print \"Accuracy =\", accuracy_score( yt, yp )\n"
   ]
  },
  {
   "cell_type": "code",
   "execution_count": 74,
   "metadata": {
    "collapsed": false,
    "scrolled": true
   },
   "outputs": [
    {
     "name": "stdout",
     "output_type": "stream",
     "text": [
      "[[237  56]\n",
      " [109 198]]\n"
     ]
    }
   ],
   "source": [
    "# See the confusion matrix obtained\n",
    "print confusion_matrix( yt, yp )"
   ]
  },
  {
   "cell_type": "markdown",
   "metadata": {},
   "source": [
    "## Hyper-parameter search\n",
    "\n",
    "Now we turn to the process of selecting the best possible Random Forest for the task, to see if we can improve over the above results. For this we'll train a number of different RF configurations, and perform cross-validation for each one to find out the best. \n",
    "\n",
    "As a starting point, we'll look at the number of trees used."
   ]
  },
  {
   "cell_type": "code",
   "execution_count": 29,
   "metadata": {
    "collapsed": false
   },
   "outputs": [
    {
     "data": {
      "text/plain": [
       "GridSearchCV(cv=5, error_score='raise',\n",
       "       estimator=RandomForestClassifier(bootstrap=True, class_weight=None, criterion='gini',\n",
       "            max_depth=None, max_features='auto', max_leaf_nodes=None,\n",
       "            min_samples_leaf=1, min_samples_split=2,\n",
       "            min_weight_fraction_leaf=0.0, n_estimators=10, n_jobs=1,\n",
       "            oob_score=False, random_state=None, verbose=0,\n",
       "            warm_start=False),\n",
       "       fit_params={}, iid=True, loss_func=None, n_jobs=1,\n",
       "       param_grid=[{'n_estimators': [10, 20, 30, 40, 50, 60, 70, 80, 90, 100, 110, 120, 130, 140, 150, 160, 170, 180, 190]}],\n",
       "       pre_dispatch='2*n_jobs', refit=True, score_func=None, scoring=None,\n",
       "       verbose=0)"
      ]
     },
     "execution_count": 29,
     "metadata": {},
     "output_type": "execute_result"
    }
   ],
   "source": [
    "from sklearn.grid_search import GridSearchCV\n",
    "\n",
    "# The parameters we are going to try: number of trees\n",
    "param_grid = [\n",
    "  {'n_estimators': range(10,200,10) },\n",
    " ]\n",
    "\n",
    "# Do a grid search over the parameter space, performing 5-fold cross-validation at each datapoint\n",
    "# This will take quite a while\n",
    "clfs = GridSearchCV( RandomForestClassifier(), param_grid, cv=5, n_jobs=2 )\n",
    "clfs.fit(Xr, yr)"
   ]
  },
  {
   "cell_type": "code",
   "execution_count": 38,
   "metadata": {
    "collapsed": false
   },
   "outputs": [
    {
     "name": "stdout",
     "output_type": "stream",
     "text": [
      "Best parameters set found on development set:\n",
      "\n",
      "{'n_estimators': 150}\n",
      "\n",
      "Grid scores on development set:\n",
      "0.656 (+/-0.057) for {'n_estimators': 10}\n",
      "0.721 (+/-0.043) for {'n_estimators': 20}\n",
      "0.732 (+/-0.031) for {'n_estimators': 30}\n",
      "0.753 (+/-0.031) for {'n_estimators': 40}\n",
      "0.754 (+/-0.025) for {'n_estimators': 50}\n",
      "0.763 (+/-0.051) for {'n_estimators': 60}\n",
      "0.774 (+/-0.030) for {'n_estimators': 70}\n",
      "0.766 (+/-0.030) for {'n_estimators': 80}\n",
      "0.784 (+/-0.029) for {'n_estimators': 90}\n",
      "0.786 (+/-0.036) for {'n_estimators': 100}\n",
      "0.790 (+/-0.049) for {'n_estimators': 110}\n",
      "0.800 (+/-0.043) for {'n_estimators': 120}\n",
      "0.790 (+/-0.032) for {'n_estimators': 130}\n",
      "0.791 (+/-0.017) for {'n_estimators': 140}\n",
      "0.802 (+/-0.045) for {'n_estimators': 150}\n",
      "0.794 (+/-0.019) for {'n_estimators': 160}\n",
      "0.786 (+/-0.030) for {'n_estimators': 170}\n",
      "0.789 (+/-0.018) for {'n_estimators': 180}\n",
      "0.793 (+/-0.033) for {'n_estimators': 190}\n"
     ]
    }
   ],
   "source": [
    "# See what we got\n",
    "print \"Best parameters set found on development set:\\n\"\n",
    "print(clfs.best_params_)\n",
    "\n",
    "print \"\\nGrid scores on development set:\"\n",
    "for params, mean_score, scores in clfs.grid_scores_:\n",
    "        print(\"%0.3f (+/-%0.03f) for %r\"\n",
    "              % (mean_score, scores.std() * 2, params))"
   ]
  },
  {
   "cell_type": "code",
   "execution_count": 61,
   "metadata": {
    "collapsed": false
   },
   "outputs": [],
   "source": [
    "# Extract the cross-validation scores\n",
    "trees = [ p.parameters['n_estimators'] for p in clfs.grid_scores_ ]\n",
    "result = np.vstack( [p.cv_validation_scores for p in clfs.grid_scores_] )\n",
    "result_mean = np.mean( result, axis=1 )\n",
    "result_std = np.std( result, axis=1 )"
   ]
  },
  {
   "cell_type": "code",
   "execution_count": 66,
   "metadata": {
    "collapsed": false
   },
   "outputs": [
    {
     "data": {
      "image/png": "[encoded data removed]",
      "text/plain": [
       "<matplotlib.figure.Figure at 0x7f97121a7c50>"
      ]
     },
     "metadata": {},
     "output_type": "display_data"
    }
   ],
   "source": [
    "# And plot them\n",
    "import matplotlib.pyplot as plt\n",
    "%matplotlib inline\n",
    "\n",
    "plt.figure( 1, (7*1.62,7), dpi=200 )\n",
    "from operator import itemgetter\n",
    "get_means = itemgetter('mean')\n",
    "plt.plot( trees, result_mean );\n",
    "plt.fill_between( trees, result_mean-result_std, result_mean+result_std, alpha=0.15 );\n",
    "plt.xlabel( 'number of trees');\n",
    "plt.ylabel( 'accuracy' );"
   ]
  },
  {
   "cell_type": "markdown",
   "metadata": {},
   "source": [
    "As we can see, the performance improvements saturate at around 80% cross-validation accuracy. Let's train a classifier with the best parameter found (150) and see its performance on the test set."
   ]
  },
  {
   "cell_type": "code",
   "execution_count": 75,
   "metadata": {
    "collapsed": true
   },
   "outputs": [],
   "source": [
    "clf_best = RandomForestClassifier(n_estimators=150).fit( Xr, yr )\n",
    "yp = clf_best.predict( Xt )"
   ]
  },
  {
   "cell_type": "code",
   "execution_count": 76,
   "metadata": {
    "collapsed": false
   },
   "outputs": [
    {
     "name": "stdout",
     "output_type": "stream",
     "text": [
      "Best accuracy = 0.816666666667\n"
     ]
    }
   ],
   "source": [
    "print \"Best accuracy =\", accuracy_score( yt, yp )"
   ]
  }
 ],
 "metadata": {
  "kernelspec": {
   "display_name": "Python 2",
   "language": "python",
   "name": "python2"
  },
  "language_info": {
   "codemirror_mode": {
    "name": "ipython",
    "version": 2
   },
   "file_extension": ".py",
   "mimetype": "text/x-python",
   "name": "python",
   "nbconvert_exporter": "python",
   "pygments_lexer": "ipython2",
   "version": "2.7.6"
  }
 },
 "nbformat": 4,
 "nbformat_minor": 0
}
